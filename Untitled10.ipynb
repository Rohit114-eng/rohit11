{
 "cells": [
  {
   "cell_type": "markdown",
   "id": "29180044-502f-4845-86c4-dbc1c16f157e",
   "metadata": {},
   "source": [
    "# find the length of given string (given by user)\n",
    "# without usin len( function\n",
    "\n",
    "\n",
    "\n",
    "\n",
    "\n",
    "\n"
   ]
  },
  {
   "cell_type": "code",
   "execution_count": 11,
   "id": "5efb24e9-2887-4464-850c-23396bf4f7a9",
   "metadata": {},
   "outputs": [
    {
     "name": "stdin",
     "output_type": "stream",
     "text": [
      "enter your string strong man\n"
     ]
    },
    {
     "name": "stdout",
     "output_type": "stream",
     "text": [
      "length of string is 1\n",
      "length of string is 2\n",
      "length of string is 3\n",
      "length of string is 4\n",
      "length of string is 5\n",
      "length of string is 6\n",
      "length of string is 7\n",
      "length of string is 8\n",
      "length of string is 9\n",
      "length of string is 10\n"
     ]
    }
   ],
   "source": [
    "str1=input(\"enter your string\")\n",
    "\n",
    "count = 0\n",
    "for i in str1:\n",
    "    count +=1\n",
    "    print(\"length of string is\",count)"
   ]
  },
  {
   "cell_type": "markdown",
   "id": "424d3229-58bd-42d1-936b-2b1fd15c3998",
   "metadata": {},
   "source": [
    "# extrat userid from given mail i'd\n",
    "# eg if the mail is chetan24jagtap@gmail.com\n",
    "# them user name shoud be \"chetan24jagtap\"\n"
   ]
  },
  {
   "cell_type": "code",
   "execution_count": 12,
   "id": "97991c58-b409-48a6-969a-dad4efe1426d",
   "metadata": {},
   "outputs": [
    {
     "name": "stdin",
     "output_type": "stream",
     "text": [
      "enter your mail_id chetan24jagtap@gmail.com\n"
     ]
    },
    {
     "name": "stdout",
     "output_type": "stream",
     "text": [
      "chetan24jagtap\n"
     ]
    }
   ],
   "source": [
    "mail_id = input(\"enter your mail_id\")\n",
    "poss = mail_id.index(\"@\")\n",
    "print(mail_id[0:poss])"
   ]
  },
  {
   "cell_type": "code",
   "execution_count": 15,
   "id": "f97dfd1d-cf51-48d9-873a-ccf8a674a4b8",
   "metadata": {},
   "outputs": [
    {
     "name": "stdin",
     "output_type": "stream",
     "text": [
      "enter string hello how are you\n",
      "enter substring e\n"
     ]
    },
    {
     "name": "stdout",
     "output_type": "stream",
     "text": [
      "frequency of your char is  2\n"
     ]
    }
   ],
   "source": [
    "# count the frequency of perticular character in provided stri\n",
    "# eg \"hello how are you\" is the string,\n",
    "#the frequecy of \"h\" in this tring is 2\n",
    "#without using count function\n",
    "str= input(\"enter string\")\n",
    "sub= input(\"enter substring\")\n",
    "sum =0\n",
    "for i in str:\n",
    "    if i == sub:\n",
    "        sum+=1\n",
    "print (\"frequency of your char is \",sum)"
   ]
  },
  {
   "cell_type": "code",
   "execution_count": 22,
   "id": "9c09919e-8320-4e8e-ba18-d12ec06928c2",
   "metadata": {},
   "outputs": [
    {
     "name": "stdin",
     "output_type": "stream",
     "text": [
      "enter your string  rohit rajput\n",
      "enter substring r\n"
     ]
    },
    {
     "name": "stdout",
     "output_type": "stream",
     "text": [
      "ohit ajput\n"
     ]
    }
   ],
   "source": [
    "# write a program which can remove\n",
    "# a perticular character from string\n",
    "\n",
    "str = input(\"enter your string \")\n",
    "sub = input (\"enter substring\")\n",
    "a=\"\"\n",
    "for i in str:\n",
    "    if i == sub:\n",
    "        pass\n",
    "\n",
    "    else :\n",
    "       a=a+i\n",
    "print (a)\n",
    "        "
   ]
  },
  {
   "cell_type": "code",
   "execution_count": null,
   "id": "a473a15e-ffe3-49e7-982b-a6ff371dd103",
   "metadata": {},
   "outputs": [],
   "source": []
  }
 ],
 "metadata": {
  "kernelspec": {
   "display_name": "Python 3 (ipykernel)",
   "language": "python",
   "name": "python3"
  },
  "language_info": {
   "codemirror_mode": {
    "name": "ipython",
    "version": 3
   },
   "file_extension": ".py",
   "mimetype": "text/x-python",
   "name": "python",
   "nbconvert_exporter": "python",
   "pygments_lexer": "ipython3",
   "version": "3.11.7"
  },
  "widgets": {
   "application/vnd.jupyter.widget-state+json": {
    "state": {},
    "version_major": 2,
    "version_minor": 0
   }
  }
 },
 "nbformat": 4,
 "nbformat_minor": 5
}
